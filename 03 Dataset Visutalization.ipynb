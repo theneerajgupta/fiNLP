{
 "cells": [
  {
   "cell_type": "markdown",
   "id": "regional-federation",
   "metadata": {},
   "source": [
    "<h2><b>Importing All Necessary Libraries</b></h2>"
   ]
  },
  {
   "cell_type": "code",
   "execution_count": 31,
   "id": "ahead-trust",
   "metadata": {},
   "outputs": [],
   "source": [
    "from os import path\n",
    "from PIL import Image\n",
    "import plotly.express as px\n",
    "import matplotlib.pyplot as plt\n",
    "\n",
    "import re\n",
    "import pandas as pd\n",
    "import numpy as np\n",
    "\n",
    "from textblob import TextBlob\n",
    "from textblob import Word\n",
    "\n",
    "import nltk\n",
    "from nltk.tokenize import word_tokenize\n",
    "from nltk.corpus import stopwords\n",
    "from nltk.stem import PorterStemmer\n",
    "from nltk.probability import FreqDist\n",
    "\n",
    "from wordcloud import WordCloud, STOPWORDS, ImageColorGenerator"
   ]
  },
  {
   "cell_type": "markdown",
   "id": "mental-doubt",
   "metadata": {},
   "source": [
    "<b><h2>Load Datasets</h2></b>"
   ]
  },
  {
   "cell_type": "code",
   "execution_count": 29,
   "id": "noticed-weapon",
   "metadata": {},
   "outputs": [],
   "source": [
    "df = pd.read_csv('ds/t4sa-preprocessed.csv')"
   ]
  },
  {
   "cell_type": "markdown",
   "id": "combined-tulsa",
   "metadata": {},
   "source": [
    "<h2><b>Create Graphs</b></h2>"
   ]
  },
  {
   "cell_type": "code",
   "execution_count": 32,
   "id": "welcome-daily",
   "metadata": {},
   "outputs": [
    {
     "data": {
      "image/png": "[encoded data removed]",
      "text/plain": [
       "<Figure size 576x360 with 1 Axes>"
      ]
     },
     "metadata": {
      "needs_background": "light"
     },
     "output_type": "display_data"
    }
   ],
   "source": [
    "# Graphing the number of tweets by sentiment\n",
    "positive = len(df.loc[df.SENTIMENT == 'positive'])\n",
    "negative = len(df.loc[df.SENTIMENT == 'negative'])\n",
    "neutral = len(df.loc[df.SENTIMENT == 'neutral'])\n",
    "\n",
    "data_t = {'Positive':positive, 'Neutral':neutral, 'Negative':negative}\n",
    "sentiment_t = list(data_t.keys()) \n",
    "num_tweets_t = list(data_t.values()) \n",
    "\n",
    "plt.figure(figsize = (8, 5)) \n",
    "\n",
    "plt.bar(sentiment_t, num_tweets_t, color ='red', width = 0.5, edgecolor='black',) \n",
    "\n",
    "plt.xlabel(\"Sentiment\", fontweight ='bold') \n",
    "plt.ylabel(\"Number of Tweets\", fontweight ='bold') \n",
    "plt.title(\"Trump Tweets by Sentiment\", fontweight ='bold') \n",
    "plt.show() "
   ]
  },
  {
   "cell_type": "code",
   "execution_count": null,
   "id": "animal-valve",
   "metadata": {},
   "outputs": [],
   "source": []
  }
 ],
 "metadata": {
  "kernelspec": {
   "display_name": "Python 3.7 (tensorflow)",
   "language": "python",
   "name": "tensorflow"
  },
  "language_info": {
   "codemirror_mode": {
    "name": "ipython",
    "version": 3
   },
   "file_extension": ".py",
   "mimetype": "text/x-python",
   "name": "python",
   "nbconvert_exporter": "python",
   "pygments_lexer": "ipython3",
   "version": "3.7.10"
  }
 },
 "nbformat": 4,
 "nbformat_minor": 5
}
