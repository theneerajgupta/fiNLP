{
 "cells": [
  {
   "cell_type": "code",
   "execution_count": 1,
   "id": "demanding-sapphire",
   "metadata": {},
   "outputs": [],
   "source": [
    "import pandas as pd\n",
    "import numpy as np\n",
    "import twitter\n",
    "import tweepy\n",
    "from tqdm import tqdm"
   ]
  },
  {
   "cell_type": "code",
   "execution_count": 2,
   "id": "positive-chance",
   "metadata": {},
   "outputs": [],
   "source": [
    "df = pd.read_csv(\"ds/t4sa.tsv\", sep='\\t')"
   ]
  },
  {
   "cell_type": "code",
   "execution_count": 3,
   "id": "similar-amateur",
   "metadata": {},
   "outputs": [
    {
     "data": {
      "text/html": [
       "<div>\n",
       "<style scoped>\n",
       "    .dataframe tbody tr th:only-of-type {\n",
       "        vertical-align: middle;\n",
       "    }\n",
       "\n",
       "    .dataframe tbody tr th {\n",
       "        vertical-align: top;\n",
       "    }\n",
       "\n",
       "    .dataframe thead th {\n",
       "        text-align: right;\n",
       "    }\n",
       "</style>\n",
       "<table border=\"1\" class=\"dataframe\">\n",
       "  <thead>\n",
       "    <tr style=\"text-align: right;\">\n",
       "      <th></th>\n",
       "      <th>TWID</th>\n",
       "      <th>NEG</th>\n",
       "      <th>NEU</th>\n",
       "      <th>POS</th>\n",
       "    </tr>\n",
       "  </thead>\n",
       "  <tbody>\n",
       "    <tr>\n",
       "      <th>0</th>\n",
       "      <td>768096868504969216</td>\n",
       "      <td>0.049398</td>\n",
       "      <td>0.861395</td>\n",
       "      <td>0.089207</td>\n",
       "    </tr>\n",
       "    <tr>\n",
       "      <th>1</th>\n",
       "      <td>768097237620490241</td>\n",
       "      <td>0.028733</td>\n",
       "      <td>0.929554</td>\n",
       "      <td>0.041713</td>\n",
       "    </tr>\n",
       "    <tr>\n",
       "      <th>2</th>\n",
       "      <td>768097619281227776</td>\n",
       "      <td>0.006598</td>\n",
       "      <td>0.046810</td>\n",
       "      <td>0.946591</td>\n",
       "    </tr>\n",
       "    <tr>\n",
       "      <th>3</th>\n",
       "      <td>768097619285536768</td>\n",
       "      <td>0.032333</td>\n",
       "      <td>0.850945</td>\n",
       "      <td>0.116722</td>\n",
       "    </tr>\n",
       "    <tr>\n",
       "      <th>4</th>\n",
       "      <td>768097627686604801</td>\n",
       "      <td>0.008090</td>\n",
       "      <td>0.042331</td>\n",
       "      <td>0.949579</td>\n",
       "    </tr>\n",
       "  </tbody>\n",
       "</table>\n",
       "</div>"
      ],
      "text/plain": [
       "                 TWID       NEG       NEU       POS\n",
       "0  768096868504969216  0.049398  0.861395  0.089207\n",
       "1  768097237620490241  0.028733  0.929554  0.041713\n",
       "2  768097619281227776  0.006598  0.046810  0.946591\n",
       "3  768097619285536768  0.032333  0.850945  0.116722\n",
       "4  768097627686604801  0.008090  0.042331  0.949579"
      ]
     },
     "execution_count": 3,
     "metadata": {},
     "output_type": "execute_result"
    }
   ],
   "source": [
    "df.head()"
   ]
  },
  {
   "cell_type": "code",
   "execution_count": 4,
   "id": "dressed-elephant",
   "metadata": {},
   "outputs": [
    {
     "name": "stdout",
     "output_type": "stream",
     "text": [
      "<class 'pandas.core.frame.DataFrame'>\n",
      "RangeIndex: 1179957 entries, 0 to 1179956\n",
      "Data columns (total 4 columns):\n",
      " #   Column  Non-Null Count    Dtype  \n",
      "---  ------  --------------    -----  \n",
      " 0   TWID    1179957 non-null  int64  \n",
      " 1   NEG     1179957 non-null  float64\n",
      " 2   NEU     1179957 non-null  float64\n",
      " 3   POS     1179957 non-null  float64\n",
      "dtypes: float64(3), int64(1)\n",
      "memory usage: 36.0 MB\n"
     ]
    }
   ],
   "source": [
    "df.info()"
   ]
  },
  {
   "cell_type": "code",
   "execution_count": 5,
   "id": "appropriate-laundry",
   "metadata": {},
   "outputs": [],
   "source": [
    "# # Twitter Authentication Keys\n",
    "consumer_key = 'e3quFb7yTv8RJBfJtcsH172ey'\n",
    "consumer_secret =  'SI8hYfTDQ6t90DVzk8saJlbp3Frz9eo0IWW9qCBK5JzgLj4ofa'\n",
    "access_token = '724078891384582144-KG0kZkal2PbRFiXOQva8Uatull9qVRx'\n",
    "access_token_secret = 'JWZlsm0KYB4vkjzc2CuJOkVaoym0L2Ts2lK9bBhSRMm3t'"
   ]
  },
  {
   "cell_type": "code",
   "execution_count": 6,
   "id": "packed-appendix",
   "metadata": {},
   "outputs": [
    {
     "name": "stdout",
     "output_type": "stream",
     "text": [
      "Authentication Successful\n"
     ]
    }
   ],
   "source": [
    "# Twitter Authentication OAuth\n",
    "try:\n",
    "#     tw={\n",
    "#     'Consumer Key': consumer_key,\n",
    "#     'Consumer Secret': consumer_secret,\n",
    "#     'Access Token': access_token,\n",
    "#     'Access Token Secret': access_token_secret,\n",
    "#    }\n",
    "#     auth = twitter.oauth.OAuth(tw['Access Token'],\n",
    "#                            tw['Access Token Secret'],\n",
    "#                            tw['Consumer Key'],\n",
    "#                            tw['Consumer Secret'])\n",
    "    auth = tweepy.OAuthHandler(consumer_key, consumer_secret)\n",
    "    auth.set_access_token(access_token, access_token_secret)\n",
    "    api = tweepy.API(auth)\n",
    "    \n",
    "    print(\"Authentication Successful\")\n",
    "except :\n",
    "    print(\"Error: Authentication Failed\")"
   ]
  },
  {
   "cell_type": "code",
   "execution_count": 7,
   "id": "comfortable-dispatch",
   "metadata": {},
   "outputs": [],
   "source": [
    "df['TWEET'] = None"
   ]
  },
  {
   "cell_type": "code",
   "execution_count": 8,
   "id": "proper-inclusion",
   "metadata": {},
   "outputs": [],
   "source": [
    "df = df[:4000]"
   ]
  },
  {
   "cell_type": "code",
   "execution_count": null,
   "id": "promising-basics",
   "metadata": {},
   "outputs": [
    {
     "name": "stderr",
     "output_type": "stream",
     "text": [
      "  0%|                                                                                             | 2/10000 [00:01<2:21:23,  1.18it/s]C:\\Users\\Artemis\\miniconda3\\envs\\tensorflow\\lib\\site-packages\\ipykernel_launcher.py:3: SettingWithCopyWarning: \n",
      "A value is trying to be set on a copy of a slice from a DataFrame\n",
      "\n",
      "See the caveats in the documentation: https://pandas.pydata.org/pandas-docs/stable/user_guide/indexing.html#returning-a-view-versus-a-copy\n",
      "  This is separate from the ipykernel package so we can avoid doing imports until\n",
      " 28%|████████████████████████▉                                                                 | 2777/10000 [41:25<2:26:58,  1.22s/it]"
     ]
    }
   ],
   "source": [
    "for x in tqdm(range(len(df))):\n",
    "    try:\n",
    "        df['TWEET'][x] = api.get_status(df['TWID'][x]).text\n",
    "        \n",
    "    except Exception as e:\n",
    "        df.drop(df.index[x])"
   ]
  },
  {
   "cell_type": "code",
   "execution_count": null,
   "id": "veterinary-subject",
   "metadata": {},
   "outputs": [],
   "source": [
    "df.head()"
   ]
  },
  {
   "cell_type": "code",
   "execution_count": null,
   "id": "accessory-negative",
   "metadata": {},
   "outputs": [],
   "source": [
    "df.to_csv('ds/t4sa-with-text.csv', index=False)"
   ]
  },
  {
   "cell_type": "code",
   "execution_count": null,
   "id": "biological-delaware",
   "metadata": {},
   "outputs": [],
   "source": [
    "df = pd.read_csv('ds/t4sa-with-text.csv')\n",
    "df['SENTIMENT'] = None\n",
    "df"
   ]
  },
  {
   "cell_type": "code",
   "execution_count": null,
   "id": "existing-single",
   "metadata": {},
   "outputs": [],
   "source": [
    "Empty = []\n",
    "for x in tqdm(range(len(df))):\n",
    "    if df['TWEET'][x] == None :\n",
    "        Empty.append(x)"
   ]
  },
  {
   "cell_type": "code",
   "execution_count": null,
   "id": "indonesian-briefs",
   "metadata": {},
   "outputs": [],
   "source": [
    "df.describe()"
   ]
  },
  {
   "cell_type": "code",
   "execution_count": null,
   "id": "younger-creek",
   "metadata": {},
   "outputs": [],
   "source": [
    "df = df.drop(Empty)"
   ]
  },
  {
   "cell_type": "code",
   "execution_count": null,
   "id": "signal-paint",
   "metadata": {},
   "outputs": [],
   "source": [
    "df['SENTIMENT'] = None\n",
    "df"
   ]
  },
  {
   "cell_type": "code",
   "execution_count": null,
   "id": "touched-shower",
   "metadata": {},
   "outputs": [],
   "source": [
    "df['SENTIMENT'] = df[['NEG', 'NEU', 'POS']].max(axis=1)\n",
    "df"
   ]
  },
  {
   "cell_type": "code",
   "execution_count": null,
   "id": "recreational-morrison",
   "metadata": {},
   "outputs": [],
   "source": [
    "for x in range(len(df)) :\n",
    "    if (df['NEG'][x] == df['SENTIMENT'][x]):\n",
    "        df['SENTIMENT'][x] = 'negative'\n",
    "    if (df['NEU'][x] == df['SENTIMENT'][x]):\n",
    "        df['SENTIMENT'][x] = 'neutral'\n",
    "    if (df['POS'][x] == df['SENTIMENT'][x]):\n",
    "        df['SENTIMENT'][x] = 'positive'\n",
    "\n",
    "df['SENTIMENT'].value_counts()"
   ]
  },
  {
   "cell_type": "code",
   "execution_count": null,
   "id": "precious-bolivia",
   "metadata": {},
   "outputs": [],
   "source": [
    "df = pd.read_csv('ds/t4sa-with-text-with-labels.csv')"
   ]
  }
 ],
 "metadata": {
  "kernelspec": {
   "display_name": "Python 3.7 (tensorflow)",
   "language": "python",
   "name": "tensorflow"
  },
  "language_info": {
   "codemirror_mode": {
    "name": "ipython",
    "version": 3
   },
   "file_extension": ".py",
   "mimetype": "text/x-python",
   "name": "python",
   "nbconvert_exporter": "python",
   "pygments_lexer": "ipython3",
   "version": "3.7.10"
  }
 },
 "nbformat": 4,
 "nbformat_minor": 5
}
